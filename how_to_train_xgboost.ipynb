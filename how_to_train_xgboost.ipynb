{
 "cells": [
  {
   "cell_type": "markdown",
   "metadata": {},
   "source": [
    "# Train XGBoost"
   ]
  },
  {
   "cell_type": "markdown",
   "metadata": {},
   "source": [
    "In the project folder create a trainer folder"
   ]
  },
  {
   "cell_type": "code",
   "execution_count": null,
   "metadata": {},
   "outputs": [
    {
     "name": "stdout",
     "output_type": "stream",
     "text": [
      "mkdir: trainer: File exists\n"
     ]
    }
   ],
   "source": [
    "! mkdir trainer\n",
    "! mkdir model"
   ]
  },
  {
   "cell_type": "markdown",
   "metadata": {},
   "source": [
    "# Python training script"
   ]
  },
  {
   "cell_type": "code",
   "execution_count": 14,
   "metadata": {},
   "outputs": [
    {
     "name": "stdout",
     "output_type": "stream",
     "text": [
      "Overwriting trainer/train.py\n"
     ]
    }
   ],
   "source": [
    "%%writefile trainer/train.py\n",
    "#first line creates the file in the trainer folder\n",
    "\n",
    "from sklearn.model_selection import train_test_split\n",
    "from sklearn.metrics import r2_score, mean_squared_error\n",
    "import pandas as pd\n",
    "from xgboost import XGBRegressor\n",
    "import numpy\n",
    "import argparse\n",
    "import os\n",
    "import joblib\n",
    "import sys\n",
    "sys.path.append(\"..\")\n",
    "import tensorflow as tf\n",
    "from tensorflow.keras.datasets import boston_housing\n",
    "\n",
    "\n",
    "parser = argparse.ArgumentParser()\n",
    "parser.add_argument('--l_r', dest='l_r', default=0.001, type=float, help='learning rate')\n",
    "parser.add_argument('--n_estimators', dest='n_estimators', default=100, type=int, help='n_estimators')\n",
    "parser.add_argument( '--max_depth',dest='max_depth',  default=6, type=int, help='max_depth')\n",
    "parser.add_argument( '--subsample', dest='subsample', default=0.8, type=float, help='subsample')\n",
    "\n",
    "args = parser.parse_args()\n",
    "\n",
    "\n",
    "def load_data():\n",
    "    \n",
    "    (x_train, y_train), (x_test, y_test) = tf.keras.datasets.boston_housing.load_data(\n",
    "        path=\"boston_housing.npz\", test_split=0.2, seed=113\n",
    "    )\n",
    "\n",
    "    columns = [\n",
    "        \"CRIM\", \"ZN\", \"INDUS\", \"CHAS\", \"NOX\", \"RM\", \"AGE\", \"DIS\", \"RAD\", \n",
    "        \"TAX\", \"PTRATIO\", \"B\", \"LSTAT\"\n",
    "    ]\n",
    "\n",
    "    # Convertir les ensembles de données en DataFrames pandas\n",
    "    return pd.DataFrame(x_train, columns=columns), pd.Series(y_train), pd.DataFrame(x_test, columns=columns), pd.Series(y_test)\n",
    "\n",
    "print(\"[INFO] : load dataset...\")\n",
    "x_train, y_train, x_val, y_val = load_data()\n",
    "print(\"[INFO] : dataset loaded\")\n",
    "\n",
    "xgb = XGBRegressor(objective=\"reg:squarederror\", random_state=42)    \n",
    "\n",
    "print(x_train.shape, type(x_train))\n",
    "print(len(y_train), type(y_train))\n",
    "print(\"[INFO] : train model\")\n",
    "xgb.fit(x_train, y_train)\n",
    "pred = xgb.predict(x_val)\n",
    "mse = mean_squared_error(y_val, pred)\n",
    "\n",
    "print(f\"[INFO] : Model MSE: {mse}\")\n",
    "\n",
    "# Check if a previous model exists\n",
    "best_model_path = \"model/best_model.pkl\"\n",
    "if os.path.exists(best_model_path):\n",
    "    best_model = joblib.load(best_model_path)\n",
    "    y_best_pred = best_model.predict(x_val)\n",
    "    best_mse = mean_squared_error(y_val, y_best_pred)\n",
    "    print(f\"[INFO] : Best Model MSE: {best_mse}\")\n",
    "    \n",
    "else:\n",
    "    best_mse = float(\"inf\")\n",
    "\n",
    "# Update the model if it performs better\n",
    "if mse < best_mse:\n",
    "    print(\"[INFO] : New model is better. Updating the saved model...\")\n",
    "    joblib.dump(xgb, best_model_path)\n",
    "else:\n",
    "    print(\"[INFO] : Current model did not outperform the best model.\")\n",
    "    "
   ]
  },
  {
   "cell_type": "code",
   "execution_count": 15,
   "metadata": {},
   "outputs": [
    {
     "name": "stdout",
     "output_type": "stream",
     "text": [
      "[INFO] : load dataset...\n",
      "[INFO] : dataset loaded\n",
      "(404, 13) <class 'pandas.core.frame.DataFrame'>\n",
      "404 <class 'pandas.core.series.Series'>\n",
      "[INFO] : train model\n",
      "[INFO] : Model MSE: 13.778617187142208\n",
      "[INFO] : New model is better. Updating the saved model...\n"
     ]
    }
   ],
   "source": [
    "! python trainer/train.py"
   ]
  },
  {
   "cell_type": "markdown",
   "metadata": {},
   "source": [
    "# Create the yaml file for automated update best model when code push to main branch"
   ]
  },
  {
   "cell_type": "code",
   "execution_count": 6,
   "metadata": {},
   "outputs": [],
   "source": [
    "!mkdir .git/workflows"
   ]
  },
  {
   "cell_type": "code",
   "execution_count": 7,
   "metadata": {},
   "outputs": [
    {
     "name": "stdout",
     "output_type": "stream",
     "text": [
      "Writing .git/workflows/train.yml\n"
     ]
    }
   ],
   "source": [
    "%%writefile .git/workflows/train.yml\n",
    "name: Train Model\n",
    "\n",
    "on:\n",
    "  push:\n",
    "    branches:\n",
    "      - main  # Trigger only on pushes to the main branch\n",
    "\n",
    "jobs:\n",
    "  train:\n",
    "    runs-on: ubuntu-latest\n",
    "\n",
    "    steps:\n",
    "    - name: Checkout code\n",
    "      uses: actions/checkout@v3\n",
    "\n",
    "    - name: Set up Python\n",
    "      uses: actions/setup-python@v4\n",
    "      with:\n",
    "        python-version: '3.9'\n",
    "\n",
    "    - name: Install dependencies\n",
    "      run: |\n",
    "        python -m pip install --upgrade pip\n",
    "        pip install xgboost scikit-learn joblib\n",
    "\n",
    "    - name: Run training script\n",
    "      run: |\n",
    "        python train.py\n"
   ]
  },
  {
   "cell_type": "markdown",
   "metadata": {},
   "source": []
  }
 ],
 "metadata": {
  "kernelspec": {
   "display_name": "ultra",
   "language": "python",
   "name": "python3"
  },
  "language_info": {
   "codemirror_mode": {
    "name": "ipython",
    "version": 3
   },
   "file_extension": ".py",
   "mimetype": "text/x-python",
   "name": "python",
   "nbconvert_exporter": "python",
   "pygments_lexer": "ipython3",
   "version": "3.12.3"
  }
 },
 "nbformat": 4,
 "nbformat_minor": 2
}
